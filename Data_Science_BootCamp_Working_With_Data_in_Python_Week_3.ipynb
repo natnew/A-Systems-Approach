{
  "nbformat": 4,
  "nbformat_minor": 0,
  "metadata": {
    "colab": {
      "name": "Data Science BootCamp - Working With Data in Python - Week 3",
      "provenance": [],
      "collapsed_sections": [],
      "authorship_tag": "ABX9TyN7sfNM0hH168YkCPzXsuxD",
      "include_colab_link": true
    },
    "kernelspec": {
      "name": "python3",
      "display_name": "Python 3"
    },
    "language_info": {
      "name": "python"
    }
  },
  "cells": [
    {
      "cell_type": "markdown",
      "metadata": {
        "id": "view-in-github",
        "colab_type": "text"
      },
      "source": [
        "<a href=\"https://colab.research.google.com/github/natnew/A-Systems-Approach/blob/main/Data_Science_BootCamp_Working_With_Data_in_Python_Week_3.ipynb\" target=\"_parent\"><img src=\"https://colab.research.google.com/assets/colab-badge.svg\" alt=\"Open In Colab\"/></a>"
      ]
    },
    {
      "cell_type": "markdown",
      "source": [
        "# Introduction"
      ],
      "metadata": {
        "id": "OJE4-DIVWQuR"
      }
    },
    {
      "cell_type": "markdown",
      "source": [
        "One of the key skills of a data scientist is to break problems down into constituent parts and \n",
        "approach each in a logical and systematic manner. <br>\n",
        "In machine learning and AI applications, the core intention is to create a machine that is able to \n",
        "replicate – or even exceed - the performance of a human when completing a certain task. One \n",
        "example which attracts significant attention is self-driving vehicles; in which a machine is able to \n",
        "master the complex and dynamic systems of roads and traffic, while benefitting from advantages \n",
        "such as almost instantaneous reaction time and a lack of fatigue."
      ],
      "metadata": {
        "id": "GKjiZunGWVhP"
      }
    },
    {
      "cell_type": "markdown",
      "source": [
        "#A systems approach"
      ],
      "metadata": {
        "id": "y4Ljp7cLY4ov"
      }
    },
    {
      "cell_type": "markdown",
      "source": [
        "i) Think of some common actions a self-driving vehicle must perform, e.g., pulling away from a \n",
        "traffic light, turning left, staying in lane etc. For at least three of these actions, produce some \n",
        "pseudo-code that describes the components of each action. For example, for approaching a \n",
        "traffic light:"
      ],
      "metadata": {
        "id": "A1o8MKbRWsZ4"
      }
    },
    {
      "cell_type": "markdown",
      "source": [
        ">IF traffic light is green<br>\n",
        ">THEN maintain speed<br>\n",
        ">ELSE reduce speed to stationary<br>\n",
        ">END IF<br>"
      ],
      "metadata": {
        "id": "DEjV29UwWttB"
      }
    },
    {
      "cell_type": "markdown",
      "source": [
        ">IF vehicle ahead is moving<br>\n",
        ">THEN continue to move forward<br>\n",
        ">Else reduce speed to stationary<br>\n",
        ">END IF<br>"
      ],
      "metadata": {
        "id": "UWwGbXTdZ9DW"
      }
    },
    {
      "cell_type": "markdown",
      "source": [
        ">IF there isn't a person crossing the road<br>\n",
        ">THEN indicate left and slowly trun into road<br>\n",
        ">Else reduce speed to stationary<br>\n",
        ">END IF<br>"
      ],
      "metadata": {
        "id": "c3cybZsqatgt"
      }
    },
    {
      "cell_type": "markdown",
      "source": [
        ">IF pedestrian is standing at the crossing<br>\n",
        ">THEN reduce speed to stationary<br>\n",
        ">Else continue to move forward<br>\n",
        ">END IF<br>"
      ],
      "metadata": {
        "id": "IAE20FZUh_o3"
      }
    },
    {
      "cell_type": "markdown",
      "source": [
        "This sort of fixed input-fixed output works well enough for certain set scenarios, and these basic \n",
        "instructions are the most straightforward part to get right. What this does not provide is the ability \n",
        "for the system to react to dynamic environments and unstructured problems. Enabling the system to \n",
        "think “for itself” through machine learning is considerably more difficult"
      ],
      "metadata": {
        "id": "JrR1w5hxW8w5"
      }
    },
    {
      "cell_type": "markdown",
      "source": [
        "The general format for this system is: (Diagram 1) Please follow the Link: [Diagram - Systems thinking](https://github.com/natnew/A-Systems-Approach/blob/main/Automated%20driving%20system.JPG)"
      ],
      "metadata": {
        "id": "7DwHymobXP6M"
      }
    },
    {
      "cell_type": "markdown",
      "source": [
        "Think about the practicalities of building a self-driving vehicle system. What inputs might you \n",
        "want to gather; what training data would you use and how would you collect it; what outputs \n",
        "would you have to consider the possibility of (in addition to those shown in the figure above)?"
      ],
      "metadata": {
        "id": "yZbeTY-8Xixz"
      }
    },
    {
      "cell_type": "markdown",
      "source": [
        "Training data:<br>\n",
        "> Actions to follow for road signs<br>\n",
        "> Actions to follow for pedestrians and hazzrads<br>\n",
        "> Actions to take during different weather conditions<br>\n",
        "> Actions to take in the event of an accident <br>\n",
        "> Actions to take when interacting with police officials/traffic wardens <br>\n"
      ],
      "metadata": {
        "id": "MncA--y7jw77"
      }
    },
    {
      "cell_type": "markdown",
      "source": [
        "# Data Exploration and Descriptive Analytics "
      ],
      "metadata": {
        "id": "9FY-w5roYosK"
      }
    },
    {
      "cell_type": "markdown",
      "source": [
        "PaperBoss Ltd are a company that sell office supplies to corporate clients within the UK. The dataset \n",
        "below presents some recent data on the sales reps employed by the company. The management \n",
        "team of the company have some basic questions that they would like answered:\n"
      ],
      "metadata": {
        "id": "N67I_MZ5l9EF"
      }
    },
    {
      "cell_type": "markdown",
      "source": [
        "- What is the mean client spend over the three month period?\n",
        "- Are there any offices that are underperforming, compared to the others?\n",
        "- Does sales rep experience have any impact on sales (measured in total takings)?"
      ],
      "metadata": {
        "id": "t2HDMJ-tl-C6"
      }
    },
    {
      "cell_type": "markdown",
      "source": [
        "However, they would also like you, as a data practitioner, so provide some additional insight into \n",
        "their organisations. Using whichever methods of analysis and visualisation you wish, explore the \n",
        "dataset below. Describe and summarise the data in as many ways as you can."
      ],
      "metadata": {
        "id": "M1DC-qdFmJ5m"
      }
    },
    {
      "cell_type": "code",
      "source": [
        "#load libraries and data\n",
        "import pandas as pd\n"
      ],
      "metadata": {
        "id": "7OyLwX66yo__"
      },
      "execution_count": 5,
      "outputs": []
    },
    {
      "cell_type": "code",
      "source": [
        "data1 = pd.read_csv('data1.csv', encoding= 'unicode_escape')"
      ],
      "metadata": {
        "id": "mMNPhUavziDH"
      },
      "execution_count": 8,
      "outputs": []
    },
    {
      "cell_type": "code",
      "source": [
        "data1.head()"
      ],
      "metadata": {
        "colab": {
          "base_uri": "https://localhost:8080/",
          "height": 206
        },
        "id": "NnIXwXZrz02R",
        "outputId": "d1f94db3-0dcc-4f37-95d8-3d543b8f318c"
      },
      "execution_count": 9,
      "outputs": [
        {
          "output_type": "execute_result",
          "data": {
            "text/html": [
              "\n",
              "  <div id=\"df-5f065815-e7d5-47da-86cb-d6c3db50f14a\">\n",
              "    <div class=\"colab-df-container\">\n",
              "      <div>\n",
              "<style scoped>\n",
              "    .dataframe tbody tr th:only-of-type {\n",
              "        vertical-align: middle;\n",
              "    }\n",
              "\n",
              "    .dataframe tbody tr th {\n",
              "        vertical-align: top;\n",
              "    }\n",
              "\n",
              "    .dataframe thead th {\n",
              "        text-align: right;\n",
              "    }\n",
              "</style>\n",
              "<table border=\"1\" class=\"dataframe\">\n",
              "  <thead>\n",
              "    <tr style=\"text-align: right;\">\n",
              "      <th></th>\n",
              "      <th>Country</th>\n",
              "      <th>Office</th>\n",
              "      <th>Rep Employee ID</th>\n",
              "      <th>Salary (£k)</th>\n",
              "      <th>Starting date</th>\n",
              "      <th>No. clients</th>\n",
              "      <th>June Sales (£k)</th>\n",
              "      <th>July Sales (£k)</th>\n",
              "      <th>August Sales (£k)</th>\n",
              "    </tr>\n",
              "  </thead>\n",
              "  <tbody>\n",
              "    <tr>\n",
              "      <th>0</th>\n",
              "      <td>England</td>\n",
              "      <td>Bath</td>\n",
              "      <td>131</td>\n",
              "      <td>43</td>\n",
              "      <td>2011</td>\n",
              "      <td>12</td>\n",
              "      <td>48</td>\n",
              "      <td>69</td>\n",
              "      <td>58</td>\n",
              "    </tr>\n",
              "    <tr>\n",
              "      <th>1</th>\n",
              "      <td>England</td>\n",
              "      <td>Bath</td>\n",
              "      <td>132</td>\n",
              "      <td>44</td>\n",
              "      <td>2018</td>\n",
              "      <td>12</td>\n",
              "      <td>48</td>\n",
              "      <td>35</td>\n",
              "      <td>59</td>\n",
              "    </tr>\n",
              "    <tr>\n",
              "      <th>2</th>\n",
              "      <td>England</td>\n",
              "      <td>Bath</td>\n",
              "      <td>133</td>\n",
              "      <td>36</td>\n",
              "      <td>2011</td>\n",
              "      <td>14</td>\n",
              "      <td>42</td>\n",
              "      <td>98</td>\n",
              "      <td>53</td>\n",
              "    </tr>\n",
              "    <tr>\n",
              "      <th>3</th>\n",
              "      <td>England</td>\n",
              "      <td>Bath</td>\n",
              "      <td>134</td>\n",
              "      <td>46</td>\n",
              "      <td>2010</td>\n",
              "      <td>15</td>\n",
              "      <td>45</td>\n",
              "      <td>68</td>\n",
              "      <td>70</td>\n",
              "    </tr>\n",
              "    <tr>\n",
              "      <th>4</th>\n",
              "      <td>England</td>\n",
              "      <td>London</td>\n",
              "      <td>111</td>\n",
              "      <td>37</td>\n",
              "      <td>2015</td>\n",
              "      <td>13</td>\n",
              "      <td>39</td>\n",
              "      <td>66</td>\n",
              "      <td>44</td>\n",
              "    </tr>\n",
              "  </tbody>\n",
              "</table>\n",
              "</div>\n",
              "      <button class=\"colab-df-convert\" onclick=\"convertToInteractive('df-5f065815-e7d5-47da-86cb-d6c3db50f14a')\"\n",
              "              title=\"Convert this dataframe to an interactive table.\"\n",
              "              style=\"display:none;\">\n",
              "        \n",
              "  <svg xmlns=\"http://www.w3.org/2000/svg\" height=\"24px\"viewBox=\"0 0 24 24\"\n",
              "       width=\"24px\">\n",
              "    <path d=\"M0 0h24v24H0V0z\" fill=\"none\"/>\n",
              "    <path d=\"M18.56 5.44l.94 2.06.94-2.06 2.06-.94-2.06-.94-.94-2.06-.94 2.06-2.06.94zm-11 1L8.5 8.5l.94-2.06 2.06-.94-2.06-.94L8.5 2.5l-.94 2.06-2.06.94zm10 10l.94 2.06.94-2.06 2.06-.94-2.06-.94-.94-2.06-.94 2.06-2.06.94z\"/><path d=\"M17.41 7.96l-1.37-1.37c-.4-.4-.92-.59-1.43-.59-.52 0-1.04.2-1.43.59L10.3 9.45l-7.72 7.72c-.78.78-.78 2.05 0 2.83L4 21.41c.39.39.9.59 1.41.59.51 0 1.02-.2 1.41-.59l7.78-7.78 2.81-2.81c.8-.78.8-2.07 0-2.86zM5.41 20L4 18.59l7.72-7.72 1.47 1.35L5.41 20z\"/>\n",
              "  </svg>\n",
              "      </button>\n",
              "      \n",
              "  <style>\n",
              "    .colab-df-container {\n",
              "      display:flex;\n",
              "      flex-wrap:wrap;\n",
              "      gap: 12px;\n",
              "    }\n",
              "\n",
              "    .colab-df-convert {\n",
              "      background-color: #E8F0FE;\n",
              "      border: none;\n",
              "      border-radius: 50%;\n",
              "      cursor: pointer;\n",
              "      display: none;\n",
              "      fill: #1967D2;\n",
              "      height: 32px;\n",
              "      padding: 0 0 0 0;\n",
              "      width: 32px;\n",
              "    }\n",
              "\n",
              "    .colab-df-convert:hover {\n",
              "      background-color: #E2EBFA;\n",
              "      box-shadow: 0px 1px 2px rgba(60, 64, 67, 0.3), 0px 1px 3px 1px rgba(60, 64, 67, 0.15);\n",
              "      fill: #174EA6;\n",
              "    }\n",
              "\n",
              "    [theme=dark] .colab-df-convert {\n",
              "      background-color: #3B4455;\n",
              "      fill: #D2E3FC;\n",
              "    }\n",
              "\n",
              "    [theme=dark] .colab-df-convert:hover {\n",
              "      background-color: #434B5C;\n",
              "      box-shadow: 0px 1px 3px 1px rgba(0, 0, 0, 0.15);\n",
              "      filter: drop-shadow(0px 1px 2px rgba(0, 0, 0, 0.3));\n",
              "      fill: #FFFFFF;\n",
              "    }\n",
              "  </style>\n",
              "\n",
              "      <script>\n",
              "        const buttonEl =\n",
              "          document.querySelector('#df-5f065815-e7d5-47da-86cb-d6c3db50f14a button.colab-df-convert');\n",
              "        buttonEl.style.display =\n",
              "          google.colab.kernel.accessAllowed ? 'block' : 'none';\n",
              "\n",
              "        async function convertToInteractive(key) {\n",
              "          const element = document.querySelector('#df-5f065815-e7d5-47da-86cb-d6c3db50f14a');\n",
              "          const dataTable =\n",
              "            await google.colab.kernel.invokeFunction('convertToInteractive',\n",
              "                                                     [key], {});\n",
              "          if (!dataTable) return;\n",
              "\n",
              "          const docLinkHtml = 'Like what you see? Visit the ' +\n",
              "            '<a target=\"_blank\" href=https://colab.research.google.com/notebooks/data_table.ipynb>data table notebook</a>'\n",
              "            + ' to learn more about interactive tables.';\n",
              "          element.innerHTML = '';\n",
              "          dataTable['output_type'] = 'display_data';\n",
              "          await google.colab.output.renderOutput(dataTable, element);\n",
              "          const docLink = document.createElement('div');\n",
              "          docLink.innerHTML = docLinkHtml;\n",
              "          element.appendChild(docLink);\n",
              "        }\n",
              "      </script>\n",
              "    </div>\n",
              "  </div>\n",
              "  "
            ],
            "text/plain": [
              "  Country   Office  ...  July Sales (£k)  August Sales (£k)\n",
              "0  England    Bath  ...               69                 58\n",
              "1  England    Bath  ...               35                 59\n",
              "2  England    Bath  ...               98                 53\n",
              "3  England    Bath  ...               68                 70\n",
              "4  England  London  ...               66                 44\n",
              "\n",
              "[5 rows x 9 columns]"
            ]
          },
          "metadata": {},
          "execution_count": 9
        }
      ]
    },
    {
      "cell_type": "code",
      "source": [
        "data1.shape"
      ],
      "metadata": {
        "colab": {
          "base_uri": "https://localhost:8080/"
        },
        "id": "AwPv5brbz6ze",
        "outputId": "79cb3f0b-8a7e-460b-9673-f081779729a5"
      },
      "execution_count": 11,
      "outputs": [
        {
          "output_type": "execute_result",
          "data": {
            "text/plain": [
              "(40, 9)"
            ]
          },
          "metadata": {},
          "execution_count": 11
        }
      ]
    },
    {
      "cell_type": "markdown",
      "source": [
        "The data has 40 rows and 9 columns"
      ],
      "metadata": {
        "id": "7wu7eh2V0IaR"
      }
    },
    {
      "cell_type": "code",
      "source": [
        "data1.columns"
      ],
      "metadata": {
        "colab": {
          "base_uri": "https://localhost:8080/"
        },
        "id": "V0VM-1nf0NC3",
        "outputId": "2c479dbc-3596-4a1e-cbfa-b42b07c877cc"
      },
      "execution_count": 13,
      "outputs": [
        {
          "output_type": "execute_result",
          "data": {
            "text/plain": [
              "Index(['Country ', 'Office', 'Rep Employee ID', 'Salary (£k)', 'Starting date',\n",
              "       'No. clients', 'June Sales (£k)', 'July Sales (£k)',\n",
              "       'August Sales (£k)'],\n",
              "      dtype='object')"
            ]
          },
          "metadata": {},
          "execution_count": 13
        }
      ]
    },
    {
      "cell_type": "code",
      "source": [
        "data1.describe"
      ],
      "metadata": {
        "colab": {
          "base_uri": "https://localhost:8080/"
        },
        "id": "5M2EBM-ez_m7",
        "outputId": "27d8945e-5301-47bf-fdaf-8f4b4287a2d0"
      },
      "execution_count": 12,
      "outputs": [
        {
          "output_type": "execute_result",
          "data": {
            "text/plain": [
              "<bound method NDFrame.describe of       Country       Office  ...  July Sales (£k)  August Sales (£k)\n",
              "0      England        Bath  ...               69                 58\n",
              "1      England        Bath  ...               35                 59\n",
              "2      England        Bath  ...               98                 53\n",
              "3      England        Bath  ...               68                 70\n",
              "4      England      London  ...               66                 44\n",
              "5      England      London  ...               57                 94\n",
              "6      England      London  ...              118                 90\n",
              "7      England      London  ...               45                 73\n",
              "8      England      London  ...              116                 84\n",
              "9      England      London  ...              130                 71\n",
              "10     England      London  ...               41                106\n",
              "11     England      London  ...               99                 56\n",
              "12     England  Manchester  ...               59                 57\n",
              "13     England  Manchester  ...              121                100\n",
              "14     England  Manchester  ...               77                 82\n",
              "15     England  Manchester  ...               60                 50\n",
              "16     England  Manchester  ...               63                 83\n",
              "17     England  Manchester  ...               64                 65\n",
              "18     England   Newcastle  ...               64                 59\n",
              "19     England   Newcastle  ...               73                 50\n",
              "20     England   Newcastle  ...               27                 63\n",
              "21     England   Newcastle  ...               58                 58\n",
              "22     England   Newcastle  ...              172                163\n",
              "23  N. Ireland     Belfast  ...               84                 52\n",
              "24  N. Ireland     Belfast  ...               73                148\n",
              "25  N. Ireland     Belfast  ...               35                 43\n",
              "26    Scotland    Aberdeen  ...               55                 85\n",
              "27    Scotland    Aberdeen  ...               99                 61\n",
              "28    Scotland    Aberdeen  ...               85                 75\n",
              "29    Scotland    Aberdeen  ...              113                115\n",
              "30    Scotland     Glasgow  ...              141                130\n",
              "31    Scotland     Glasgow  ...               37                 57\n",
              "32    Scotland     Glasgow  ...               98                 56\n",
              "33    Scotland     Glasgow  ...               84                 88\n",
              "34    Scotland     Glasgow  ...               60                 56\n",
              "35       Wales     Cardiff  ...               56                 76\n",
              "36       Wales     Cardiff  ...               62                 86\n",
              "37       Wales     Cardiff  ...              116                 99\n",
              "38       Wales     Cardiff  ...               54                 27\n",
              "39       Wales     Cardiff  ...              110                 97\n",
              "\n",
              "[40 rows x 9 columns]>"
            ]
          },
          "metadata": {},
          "execution_count": 12
        }
      ]
    },
    {
      "cell_type": "code",
      "source": [
        "data1.info()"
      ],
      "metadata": {
        "colab": {
          "base_uri": "https://localhost:8080/"
        },
        "id": "iE-mpzP00Z-R",
        "outputId": "f8ccd88c-0a08-4da4-cd83-793e56582c95"
      },
      "execution_count": 14,
      "outputs": [
        {
          "output_type": "stream",
          "name": "stdout",
          "text": [
            "<class 'pandas.core.frame.DataFrame'>\n",
            "RangeIndex: 40 entries, 0 to 39\n",
            "Data columns (total 9 columns):\n",
            " #   Column             Non-Null Count  Dtype \n",
            "---  ------             --------------  ----- \n",
            " 0   Country            40 non-null     object\n",
            " 1   Office             40 non-null     object\n",
            " 2   Rep Employee ID    40 non-null     int64 \n",
            " 3   Salary (£k)        40 non-null     int64 \n",
            " 4   Starting date      40 non-null     int64 \n",
            " 5   No. clients        40 non-null     int64 \n",
            " 6   June Sales (£k)    40 non-null     int64 \n",
            " 7   July Sales (£k)    40 non-null     int64 \n",
            " 8   August Sales (£k)  40 non-null     int64 \n",
            "dtypes: int64(7), object(2)\n",
            "memory usage: 2.9+ KB\n"
          ]
        }
      ]
    },
    {
      "cell_type": "code",
      "source": [
        "from matplotlib import pyplot as plt"
      ],
      "metadata": {
        "id": "t3RAOV4H0pXE"
      },
      "execution_count": 15,
      "outputs": []
    },
    {
      "cell_type": "markdown",
      "source": [
        "Investigate what is a BIM file format? Is there any preferred neutral file format capable of \n",
        "exchanging data that is being promoted by the International Standards Organization (ISO) or any\n",
        "other standards organisation? Write down your findings and consider the affects this lack of \n",
        "interoperability limits data exchange between different software.\n"
      ],
      "metadata": {
        "id": "c4hCfKntunJ1"
      }
    },
    {
      "cell_type": "markdown",
      "source": [
        "> IFC AND COBie are the preferred file formats for data exchange in the construction industry.<br>\n",
        "> Most construction software solutions now have the ability to export data in these file formats. However, those solutions that dont have interoperable capabilities,  risk a very convoluted workflow and the risk of data inaccuracy and loss. <br>"
      ],
      "metadata": {
        "id": "7sqBLMVLu05I"
      }
    },
    {
      "cell_type": "markdown",
      "source": [
        "Research, list and produce a narrative of the typical issues, often raised as concerns, by practitioners \n",
        "and companies associated with the lack of, or use of BIM data. For example, quantity, inconsistency, \n",
        "accuracy, format, etc. Buildingsmart, IFC, COBie, BCF, etc."
      ],
      "metadata": {
        "id": "m74RycW9uryJ"
      }
    },
    {
      "cell_type": "markdown",
      "source": [
        "> Accuracy of BIM models (graphical and non-graphical)<br>\n",
        "> Quality of design and data <br>\n",
        "> Transparency and accountability <br>\n",
        "> Value <br>\n",
        "> Miscommunication <br>\n",
        "> Duplicated work <br>\n",
        "> Silod data <br>"
      ],
      "metadata": {
        "id": "DAUPKhhJwS34"
      }
    },
    {
      "cell_type": "markdown",
      "source": [
        "Read and review the Autodesk report: Harnessing the Data Advantage in Construction (2021)."
      ],
      "metadata": {
        "id": "OZYHsFytuxnM"
      }
    }
  ]
}